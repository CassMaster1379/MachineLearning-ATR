{
 "cells": [
  {
   "cell_type": "code",
   "execution_count": 2,
   "id": "b35ffbfb",
   "metadata": {},
   "outputs": [
    {
     "name": "stdout",
     "output_type": "stream",
     "text": [
      "i= 100 \ttime= 7.257599353790283\n",
      "i= 200 \ttime= 15.347999811172485\n",
      "i= 300 \ttime= 22.7142813205719\n",
      "i= 400 \ttime= 39.73179054260254\n",
      "i= 500 \ttime= 52.67023277282715\n",
      "i= 600 \ttime= 60.06244349479675\n",
      "i= 700 \ttime= 68.2296404838562\n",
      "i= 800 \ttime= 76.37882781028748\n",
      "i= 900 \ttime= 82.12558579444885\n",
      "i= 1000 \ttime= 87.89718651771545\n",
      "i= 1100 \ttime= 94.388831615448\n",
      "i= 1200 \ttime= 103.60221338272095\n",
      "i= 1300 \ttime= 109.98012590408325\n",
      "i= 1400 \ttime= 116.04690861701965\n",
      "Done with 1472 rows. Total time = 122       \n"
     ]
    }
   ],
   "source": [
    "import time\n",
    "import nibabel as nb\n",
    "from nilearn import plotting as plot\n",
    "from nilearn import image as img\n",
    "import pandas as pd\n",
    "import matplotlib.pyplot as plt\n",
    "import numpy as np\n",
    "from scipy import ndimage as nd\n",
    "from scipy import stats\n",
    "\n",
    "\n",
    "df = pd.read_excel(\"ATR_GT_Training_og.xlsx\",header = None, names=['File Name','Label'])\n",
    "df['File Name'] = df['File Name'].map(lambda x: x.lstrip(\"'\").rstrip(\"'\"))\n",
    "df['Image'] = df['File Name'].map(lambda x: nb.load('ATR_data/' + str(x) + '.nii.gz'))\n",
    "\n",
    "start = time.time()\n",
    "stat_features = []\n",
    "\n",
    "for i, img in enumerate(df.Image):\n",
    "    if i % 100 == 0 and i != 0: print('i=',i,'\\ttime=',time.time()-start)\n",
    "    data = img.get_fdata()\n",
    "    nonzero = data[np.nonzero(data)]\n",
    "    x,y,z = img.shape\n",
    "    \n",
    "    max_d = np.max(img.shape)\n",
    "    mid_d = np.median(img.shape)\n",
    "    min_d = np.min(img.shape)\n",
    "    \n",
    "    mean = nd.mean(nonzero)\n",
    "    median = nd.median(nonzero)\n",
    "    maximum = np.max(nonzero)\n",
    "    \n",
    "    std = nd.standard_deviation(nonzero)\n",
    "    var = nd.variance(nonzero)\n",
    "    \n",
    "    skew = stats.skew(nonzero,axis=None)\n",
    "    kurtosis = stats.kurtosis(nonzero,axis=None)\n",
    "    \n",
    "    stat_features.append([x,y,z,max_d,mid_d,min_d,mean,median,maximum,std,var,skew,kurtosis])\n",
    "np.save('stat_features.npy', np.array(stat_features))  \n",
    "\n",
    "print('Done with {:d} rows. Total time = {:<10.3g}'.format(len(df),time.time()-start))"
   ]
  }
 ],
 "metadata": {
  "kernelspec": {
   "display_name": "Python 3 (ipykernel)",
   "language": "python",
   "name": "python3"
  },
  "language_info": {
   "codemirror_mode": {
    "name": "ipython",
    "version": 3
   },
   "file_extension": ".py",
   "mimetype": "text/x-python",
   "name": "python",
   "nbconvert_exporter": "python",
   "pygments_lexer": "ipython3",
   "version": "3.9.13"
  }
 },
 "nbformat": 4,
 "nbformat_minor": 5
}
