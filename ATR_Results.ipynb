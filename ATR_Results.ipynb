{
 "cells": [
  {
   "cell_type": "code",
   "execution_count": 1,
   "id": "8c302872",
   "metadata": {},
   "outputs": [],
   "source": [
    "import pandas as pd\n",
    "import time\n",
    "import nibabel as nb\n",
    "from nilearn import plotting as plot\n",
    "from nilearn import image as img\n",
    "import matplotlib.pyplot as plt\n",
    "import numpy as np\n",
    "from scipy import ndimage as nd\n",
    "from scipy import stats"
   ]
  },
  {
   "cell_type": "code",
   "execution_count": 2,
   "id": "0acd0b54",
   "metadata": {},
   "outputs": [],
   "source": [
    "df = pd.read_excel(\"ATR_GT_Training_og.xlsx\",header = None, names=['File Name','Label'])\n",
    "df['File Name'] = df['File Name'].map(lambda x: x.lstrip(\"'\").rstrip(\"'\"))\n",
    "df['Image'] = df['File Name'].map(lambda x: nb.load('ATR_data/' + str(x) + '.nii.gz'))"
   ]
  },
  {
   "cell_type": "code",
   "execution_count": 3,
   "id": "41911a62",
   "metadata": {},
   "outputs": [],
   "source": [
    "feature_stats = np.load('stat_features.npy')\n",
    "feature_histogram = np.load('features_histogram.npy')\n",
    "features = np.concatenate((feature_stats,feature_histogram),axis=1)"
   ]
  },
  {
   "cell_type": "code",
   "execution_count": 4,
   "id": "9f26a274",
   "metadata": {},
   "outputs": [],
   "source": [
    "from sklearn.model_selection import train_test_split\n",
    "from sklearn.preprocessing import StandardScaler\n",
    "\n",
    "X = features[:1005]\n",
    "y = df.Label[:1005]\n",
    "\n",
    "#standarize the features\n",
    "scaler = StandardScaler()\n",
    "X_scaled = scaler.fit_transform(X)"
   ]
  },
  {
   "cell_type": "code",
   "execution_count": 5,
   "id": "e856b2e0",
   "metadata": {},
   "outputs": [],
   "source": [
    "from sklearn.model_selection import cross_val_score, StratifiedKFold\n",
    "from sklearn.neighbors import KNeighborsClassifier\n",
    "from sklearn.metrics import accuracy_score, recall_score, precision_score\n",
    "from sklearn.model_selection import KFold\n",
    "from sklearn.svm import SVC\n",
    "\n",
    "knn = KNeighborsClassifier(n_neighbors = 1, leaf_size = 1, p=1)\n",
    "svm = SVC(kernel='linear', C=5)"
   ]
  },
  {
   "cell_type": "code",
   "execution_count": 6,
   "id": "d01bece3",
   "metadata": {},
   "outputs": [],
   "source": [
    "#Returns overall Accuracy Score\n",
    "def overall_acc(y_true,y_pred):\n",
    "    return accuracy_score(y_true,y_pred)\n",
    "\n",
    "#Returns the percent detected(#targets detected and #targets)\n",
    "def PD(y_true,y_pred):\n",
    "    return recall_score(y_true,y_pred)\n",
    "\n",
    "#Returns the percent of false alarms(#false alarms and #non-targets)\n",
    "def PFA(y_true,y_pred):\n",
    "    return 1 - accuracy_score(1-y_true,1-y_pred)"
   ]
  },
  {
   "cell_type": "code",
   "execution_count": 7,
   "id": "3d05ced7",
   "metadata": {},
   "outputs": [],
   "source": [
    "def results(X,y,clf):\n",
    "    kf = KFold(n_splits=5)\n",
    "    per_det_total = []\n",
    "    per_det_0 = []\n",
    "    per_det_1 = []\n",
    "    per_det_2 = []\n",
    "    per_det_3 = []\n",
    "    per_false_alarm = []\n",
    "    acc = []\n",
    "    \n",
    "    \n",
    "    for train_i, test_i in kf.split(X):\n",
    "        X_train, X_test = X[train_i],X[test_i]\n",
    "        y_train, y_test = y[train_i], y[test_i]\n",
    "        \n",
    "        predict = clf.fit(X_train, y_train != 0).predict(X_test)\n",
    "        \n",
    "        acc.append(overall_acc(y_test != 0, predict))\n",
    "        per_det_total.append(PD((y_test != 0),predict))\n",
    "        per_det_0.append(PD((y_test == 0),predict))\n",
    "        per_det_1.append(PD((y_test == 1),predict))\n",
    "        per_det_2.append(PD((y_test == 2),predict))\n",
    "        per_det_3.append(PD((y_test == 3),predict))\n",
    "        per_false_alarm.append(PFA(y_test != 0, predict))\n",
    "        \n",
    "        \n",
    "    print('Accuracy: ', np.mean(acc))\n",
    "    print('Percent False Alarm: ', np.mean(per_false_alarm))\n",
    "    print('Percent Total Detected: ', np.mean(per_det_total))\n",
    "    print('Percent Non-Targets Detected: ',np.mean(per_det_0))\n",
    "    print('Percent Saline Detected: ', np.mean(per_det_1))\n",
    "    print('Percent Rubber Detected: ', np.mean(per_det_2))\n",
    "    print('Percent Clay Detected: ', np.mean(per_det_3))"
   ]
  },
  {
   "cell_type": "code",
   "execution_count": 8,
   "id": "336f91bc",
   "metadata": {},
   "outputs": [
    {
     "name": "stdout",
     "output_type": "stream",
     "text": [
      "Accuracy:  0.8139303482587066\n",
      "Percent False Alarm:  0.18606965174129353\n",
      "Percent Total Detected:  0.6937145271118196\n",
      "Percent Non-Targets Detected:  0.1353264015728631\n",
      "Percent Saline Detected:  0.6363095238095238\n",
      "Percent Rubber Detected:  0.6500925079448\n",
      "Percent Clay Detected:  0.823992673992674\n"
     ]
    },
    {
     "name": "stderr",
     "output_type": "stream",
     "text": [
      "C:\\Users\\Cassa\\anaconda3\\lib\\site-packages\\sklearn\\neighbors\\_classification.py:228: FutureWarning: Unlike other reduction functions (e.g. `skew`, `kurtosis`), the default behavior of `mode` typically preserves the axis it acts along. In SciPy 1.11.0, this behavior will change: the default value of `keepdims` will become False, the `axis` over which the statistic is taken will be eliminated, and the value None will no longer be accepted. Set `keepdims` to True or False to avoid this warning.\n",
      "  mode, _ = stats.mode(_y[neigh_ind, k], axis=1)\n",
      "C:\\Users\\Cassa\\anaconda3\\lib\\site-packages\\sklearn\\neighbors\\_classification.py:228: FutureWarning: Unlike other reduction functions (e.g. `skew`, `kurtosis`), the default behavior of `mode` typically preserves the axis it acts along. In SciPy 1.11.0, this behavior will change: the default value of `keepdims` will become False, the `axis` over which the statistic is taken will be eliminated, and the value None will no longer be accepted. Set `keepdims` to True or False to avoid this warning.\n",
      "  mode, _ = stats.mode(_y[neigh_ind, k], axis=1)\n",
      "C:\\Users\\Cassa\\anaconda3\\lib\\site-packages\\sklearn\\neighbors\\_classification.py:228: FutureWarning: Unlike other reduction functions (e.g. `skew`, `kurtosis`), the default behavior of `mode` typically preserves the axis it acts along. In SciPy 1.11.0, this behavior will change: the default value of `keepdims` will become False, the `axis` over which the statistic is taken will be eliminated, and the value None will no longer be accepted. Set `keepdims` to True or False to avoid this warning.\n",
      "  mode, _ = stats.mode(_y[neigh_ind, k], axis=1)\n",
      "C:\\Users\\Cassa\\anaconda3\\lib\\site-packages\\sklearn\\neighbors\\_classification.py:228: FutureWarning: Unlike other reduction functions (e.g. `skew`, `kurtosis`), the default behavior of `mode` typically preserves the axis it acts along. In SciPy 1.11.0, this behavior will change: the default value of `keepdims` will become False, the `axis` over which the statistic is taken will be eliminated, and the value None will no longer be accepted. Set `keepdims` to True or False to avoid this warning.\n",
      "  mode, _ = stats.mode(_y[neigh_ind, k], axis=1)\n",
      "C:\\Users\\Cassa\\anaconda3\\lib\\site-packages\\sklearn\\neighbors\\_classification.py:228: FutureWarning: Unlike other reduction functions (e.g. `skew`, `kurtosis`), the default behavior of `mode` typically preserves the axis it acts along. In SciPy 1.11.0, this behavior will change: the default value of `keepdims` will become False, the `axis` over which the statistic is taken will be eliminated, and the value None will no longer be accepted. Set `keepdims` to True or False to avoid this warning.\n",
      "  mode, _ = stats.mode(_y[neigh_ind, k], axis=1)\n"
     ]
    }
   ],
   "source": [
    "results(X_scaled, y, knn)"
   ]
  },
  {
   "cell_type": "code",
   "execution_count": 28,
   "id": "3f547ec7",
   "metadata": {},
   "outputs": [
    {
     "name": "stdout",
     "output_type": "stream",
     "text": [
      "Accuracy:  0.7074626865671642\n",
      "Percent False Alarm:  0.29253731343283584\n",
      "Percent Total Detected:  0.2862995619311577\n",
      "Percent Non-Targets Detected:  0.09889651636176726\n",
      "Percent Saline Detected:  0.025\n",
      "Percent Rubber Detected:  0.39078947368421046\n",
      "Percent Clay Detected:  0.5176984126984128\n"
     ]
    }
   ],
   "source": [
    "results(X_scaled,y,svm)"
   ]
  },
  {
   "cell_type": "code",
   "execution_count": null,
   "id": "68b5fc87",
   "metadata": {},
   "outputs": [],
   "source": []
  }
 ],
 "metadata": {
  "kernelspec": {
   "display_name": "Python 3 (ipykernel)",
   "language": "python",
   "name": "python3"
  },
  "language_info": {
   "codemirror_mode": {
    "name": "ipython",
    "version": 3
   },
   "file_extension": ".py",
   "mimetype": "text/x-python",
   "name": "python",
   "nbconvert_exporter": "python",
   "pygments_lexer": "ipython3",
   "version": "3.9.13"
  }
 },
 "nbformat": 4,
 "nbformat_minor": 5
}
